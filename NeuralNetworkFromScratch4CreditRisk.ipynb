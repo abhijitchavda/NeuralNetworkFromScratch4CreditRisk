{
 "cells": [
  {
   "cell_type": "code",
   "execution_count": null,
   "metadata": {},
   "outputs": [],
   "source": [
    "import numpy as np\n",
    "import pandas as pd\n",
    "import warnings"
   ]
  },
  {
   "cell_type": "code",
   "execution_count": null,
   "metadata": {},
   "outputs": [],
   "source": [
    "def data_encoding(df):\n",
    "    # Convert to one-hot encoding\n",
    "    df = df.dropna()\n",
    "    df = pd.get_dummies(df, columns=['person_home_ownership', 'loan_intent'], drop_first=True)\n",
    "\n",
    "    # Convert boolean to int\n",
    "    for column in df.columns.to_list():\n",
    "        if \"person_home_ownership\" in column or \"loan_intent\" in column:\n",
    "            df[column] = df[column].astype(int)\n",
    "\n",
    "    # Convert categories to int\n",
    "    with warnings.catch_warnings(action=\"ignore\"):\n",
    "        df['cb_person_default_on_file'] = df['cb_person_default_on_file'].replace({'Y': 1, 'N': 0})\n",
    "        df['loan_grade'] = df['loan_grade'].replace({'A': 1, 'B': 2, 'C': 3, 'D': 4, 'E': 5, 'F': 6, 'G': 7})\n",
    "\n",
    "    return df"
   ]
  },
  {
   "cell_type": "code",
   "execution_count": null,
   "metadata": {},
   "outputs": [],
   "source": [
    "def split_len(total):\n",
    "    return (int) ((total * 80)/100)\n",
    "\n",
    "def split_dataset(df):\n",
    "    train_df = df.iloc[:split_len(len(df))]\n",
    "    test_df = df.iloc[split_len(len(df)):]\n",
    "    return train_df.reset_index(drop=True), test_df.reset_index(drop=True)"
   ]
  },
  {
   "cell_type": "code",
   "execution_count": null,
   "metadata": {},
   "outputs": [],
   "source": [
    "def z_score_normalization(feature):\n",
    "    with warnings.catch_warnings(action=\"ignore\"):\n",
    "        feature_array = np.array(feature)\n",
    "        mean = np.mean(feature_array)\n",
    "        standard_deviation = np.std(feature_array)\n",
    "        for i in range(len(feature)):\n",
    "            feature[i] = (feature[i] - mean) / standard_deviation\n",
    "        return feature"
   ]
  },
  {
   "cell_type": "code",
   "execution_count": null,
   "metadata": {},
   "outputs": [],
   "source": [
    "def sigmoid(z):\n",
    "    return 1/(1+(1/np.exp(z)))"
   ]
  },
  {
   "cell_type": "code",
   "execution_count": null,
   "metadata": {},
   "outputs": [],
   "source": [
    "def accuracy(prediction, truth):\n",
    "    # Initialize counters\n",
    "    TP = 0  # True Positives\n",
    "    FP = 0  # False Positives\n",
    "    FN = 0  # False Negatives\n",
    "\n",
    "    for true, pred in zip(truth, prediction):\n",
    "        if pred == 1 and true == 1:\n",
    "            TP += 1\n",
    "        elif pred == 1 and true == 0:\n",
    "            FP += 1\n",
    "        elif pred == 0 and true == 1:\n",
    "            FN += 1\n",
    "\n",
    "    # Calculate precision and recall\n",
    "    precision = TP / (TP + FP) if (TP + FP) > 0 else 0\n",
    "    recall = TP / (TP + FN) if (TP + FN) > 0 else 0\n",
    "    return precision, recall"
   ]
  },
  {
   "cell_type": "code",
   "execution_count": null,
   "metadata": {},
   "outputs": [],
   "source": [
    "def dense(AT, W, B):\n",
    "    z = np.matmul(AT,W) + B\n",
    "    return sigmoid(z)"
   ]
  },
  {
   "cell_type": "code",
   "execution_count": null,
   "metadata": {},
   "outputs": [],
   "source": [
    "def sequential(AT, W, B):\n",
    "    activation_values = AT\n",
    "    for i in range(len(W)):\n",
    "        activation_values = dense(activation_values, W[i], B[i])\n",
    "    return activation_values"
   ]
  }
 ],
 "metadata": {
  "language_info": {
   "name": "python"
  }
 },
 "nbformat": 4,
 "nbformat_minor": 2
}
